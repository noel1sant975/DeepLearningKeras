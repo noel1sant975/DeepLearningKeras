{
  "nbformat": 4,
  "nbformat_minor": 0,
  "metadata": {
    "colab": {
      "name": "DeepLearningComKeras.ipynb",
      "provenance": [],
      "collapsed_sections": []
    },
    "kernelspec": {
      "name": "python3",
      "display_name": "Python 3"
    }
  },
  "cells": [
    {
      "cell_type": "markdown",
      "metadata": {
        "id": "H_iOjKFRKX32",
        "colab_type": "text"
      },
      "source": [
        "Imports\n"
      ]
    },
    {
      "cell_type": "code",
      "metadata": {
        "id": "WxmTFsGfJ8VB",
        "colab_type": "code",
        "colab": {}
      },
      "source": [
        "#imports\n",
        "import tensorflow\n",
        "from tensorflow import keras\n",
        "import matplotlib.pyplot as plt\n",
        "from scipy import ndimage\n",
        "import numpy as np\n",
        "from tensorflow.keras.models import load_model"
      ],
      "execution_count": 0,
      "outputs": []
    },
    {
      "cell_type": "markdown",
      "metadata": {
        "id": "lOrbqSjeKq9M",
        "colab_type": "text"
      },
      "source": [
        "Carregando o dataset"
      ]
    },
    {
      "cell_type": "code",
      "metadata": {
        "id": "gKLjmxyMJ_1m",
        "colab_type": "code",
        "colab": {}
      },
      "source": [
        "#carregar o dataset\n",
        "dataset = keras.datasets.fashion_mnist\n",
        "((imagens_treino, identificacoes_treino),(imagens_teste, identificacoes_teste)) = dataset.load_data()"
      ],
      "execution_count": 0,
      "outputs": []
    },
    {
      "cell_type": "markdown",
      "metadata": {
        "id": "AVn0iigjK3C0",
        "colab_type": "text"
      },
      "source": [
        "Exploração dos dados"
      ]
    },
    {
      "cell_type": "code",
      "metadata": {
        "id": "yNokLLU7KCrG",
        "colab_type": "code",
        "colab": {}
      },
      "source": [
        "#explorar os dados\n",
        "len(imagens_treino)\n",
        "imagens_treino.shape\n",
        "imagens_teste.shape\n",
        "len(identificacoes_teste)\n",
        "identificacoes_treino.min()\n",
        "identificacoes_treino.max()"
      ],
      "execution_count": 0,
      "outputs": []
    },
    {
      "cell_type": "markdown",
      "metadata": {
        "id": "4xaMfaArLBi7",
        "colab_type": "text"
      },
      "source": [
        "Exibição dos dados "
      ]
    },
    {
      "cell_type": "code",
      "metadata": {
        "id": "AeeAamOW9eoM",
        "colab_type": "code",
        "colab": {}
      },
      "source": [
        "#exibir os dados\n",
        "total_de_classificacoes = 10\n",
        "nomes_de_classificacoes = ['Camiseta', 'Calça', 'Pullover', 'Vestido', 'Casaco',\n",
        "                                     'Sandália', 'Camiseta', 'Tênis', 'Bolsa', 'Bota']\n",
        "\n",
        "\n",
        "plt. imshow(imagens_treino[0]) \n",
        "plt.colorbar()"
      ],
      "execution_count": 0,
      "outputs": []
    },
    {
      "cell_type": "markdown",
      "metadata": {
        "id": "tRkohSglHFHo",
        "colab_type": "text"
      },
      "source": [
        "Normalizando as imagens"
      ]
    },
    {
      "cell_type": "code",
      "metadata": {
        "id": "QgHGgu1r-Ecp",
        "colab_type": "code",
        "colab": {}
      },
      "source": [
        "imagens_treino = imagens_treino/float(255)\n",
        "\n"
      ],
      "execution_count": 0,
      "outputs": []
    },
    {
      "cell_type": "markdown",
      "metadata": {
        "id": "2lo2xCInHvk2",
        "colab_type": "text"
      },
      "source": [
        "Criando, compilando treinando e normalizando o modelo "
      ]
    },
    {
      "cell_type": "code",
      "metadata": {
        "id": "l5-7mH6hHo9V",
        "colab_type": "code",
        "colab": {}
      },
      "source": [
        "modelo = keras.Sequential([\n",
        "   keras.layers.Flatten(input_shape=(28, 28)),\n",
        "   keras.layers.Dense(256, activation=tensorflow.nn.relu),\n",
        "   keras.layers.Dropout(0.2), \n",
        "   keras.layers.Dense(10, activation=tensorflow.nn.softmax)\n",
        "]) \n",
        "\n",
        "modelo.compile(optimizer='adam', \n",
        "               loss='sparse_categorical_crossentropy',\n",
        "                metrics=['accuracy'])\n",
        " \n",
        "historico = modelo.fit(imagens_treino, identificacoes_treino, epochs=5, validation_split=0.2) "
      ],
      "execution_count": 0,
      "outputs": []
    },
    {
      "cell_type": "markdown",
      "metadata": {
        "id": "sfTGlG14IYKx",
        "colab_type": "text"
      },
      "source": [
        "Salvando e carregando o modelo treinado"
      ]
    },
    {
      "cell_type": "code",
      "metadata": {
        "id": "EeyhQXRdDEtQ",
        "colab_type": "code",
        "colab": {}
      },
      "source": [
        "\n",
        "\n",
        "modelo.save('modelo.h5')\n",
        "modelo_salvo = load_model('modelo.h5')"
      ],
      "execution_count": 0,
      "outputs": []
    },
    {
      "cell_type": "markdown",
      "metadata": {
        "id": "yGKHD7keI_Sz",
        "colab_type": "text"
      },
      "source": [
        "Visualizando as acurácias e validação por época"
      ]
    },
    {
      "cell_type": "code",
      "metadata": {
        "id": "LLsOksT0NrtH",
        "colab_type": "code",
        "colab": {}
      },
      "source": [
        "plt.plot(historico.history['acc'])\n",
        "plt.plot(historico.history['val_acc'])\n",
        "plt.title('Acurácia por épocas')\n",
        "plt.xlabel('épocas')\n",
        "plt.ylabel('acurácia')\n",
        "plt.legend(['treino', 'validação'])"
      ],
      "execution_count": 0,
      "outputs": []
    },
    {
      "cell_type": "markdown",
      "metadata": {
        "id": "a7wasAVxJioK",
        "colab_type": "text"
      },
      "source": [
        "Visualizando as perdas de treino e validação por época"
      ]
    },
    {
      "cell_type": "code",
      "metadata": {
        "id": "F0QtGcTH_9Pt",
        "colab_type": "code",
        "colab": {}
      },
      "source": [
        "plt.plot(historico.history['loss'])\n",
        "plt.plot(historico.history['val_loss'])\n",
        "plt.title('Perda por épocas')\n",
        "plt.xlabel('épocas')\n",
        "plt.ylabel('perda')\n",
        "plt.legend(['treino', 'validação'])"
      ],
      "execution_count": 0,
      "outputs": []
    },
    {
      "cell_type": "markdown",
      "metadata": {
        "id": "hId037_SJJHD",
        "colab_type": "text"
      },
      "source": [
        "Testando o modelo e o modelo salvo"
      ]
    },
    {
      "cell_type": "code",
      "metadata": {
        "id": "feQ6C4KANrwY",
        "colab_type": "code",
        "colab": {}
      },
      "source": [
        "testes = modelo.predict(imagens_teste)\n",
        "print('resultado teste:',np.argmax(testes[1]))\n",
        "print('número da imagem de teste:', identificacoes_teste[1])\n",
        "\n",
        "testes_modelo_salvo = modelo_salvo.predict(imagens_teste)\n",
        "print('resultado teste modelo salvo:', np.argmax(testes_modelo_salvo[1]))\n",
        "print('número da imagem de teste:', identificacoes_teste[1])"
      ],
      "execution_count": 0,
      "outputs": []
    },
    {
      "cell_type": "markdown",
      "metadata": {
        "id": "JAriZL0NJRF7",
        "colab_type": "text"
      },
      "source": [
        "Avaliando o modelo"
      ]
    },
    {
      "cell_type": "code",
      "metadata": {
        "id": "27A6FdiZNrzv",
        "colab_type": "code",
        "colab": {}
      },
      "source": [
        "perda_teste, acuracia_teste = modelo.evaluate(imagens_testes, identificacoes_testes)\n",
        "print('Perda do teste', perda_teste)\n",
        "print('Acurácia do teste:'acuracia_teste)"
      ],
      "execution_count": 0,
      "outputs": []
    },
    {
      "cell_type": "code",
      "metadata": {
        "id": "Nx359iSnNr2f",
        "colab_type": "code",
        "colab": {}
      },
      "source": [
        ""
      ],
      "execution_count": 0,
      "outputs": []
    }
  ]
}